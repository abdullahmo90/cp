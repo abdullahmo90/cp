{
 "cells": [
  {
   "cell_type": "code",
   "execution_count": 58,
   "id": "32cab321",
   "metadata": {},
   "outputs": [
    {
     "data": {
      "text/plain": [
       "(1, 2, 3)"
      ]
     },
     "execution_count": 58,
     "metadata": {},
     "output_type": "execute_result"
    }
   ],
   "source": [
    "#Q1\n",
    "class Point3D:\n",
    "    def __init__(self, x, y, z):\n",
    "        self.x = x\n",
    "        self.y = y\n",
    "        self.z = z\n",
    "    \n",
    "    def  represent(self):\n",
    "         return self.x,self.y,self.z\n",
    "    \n",
    "my_point = Point3D(1,2,3)\n",
    "my_point.represent()"
   ]
  },
  {
   "cell_type": "code",
   "execution_count": 62,
   "id": "ecbcfec5",
   "metadata": {},
   "outputs": [
    {
     "name": "stdout",
     "output_type": "stream",
     "text": [
      "12\n",
      "24\n"
     ]
    }
   ],
   "source": [
    "#Q2\n",
    "class Rectangle:\n",
    "    def __init__(self, l, w):\n",
    "        self.l= l\n",
    "        self.w= w\n",
    "\n",
    "    def rectangle_area(self):\n",
    "        return self.l*self.w\n",
    "    \n",
    "    def perimeter(self):\n",
    "        return (self.l*self.w)*2\n",
    "\n",
    "area = Rectangle(4, 3)\n",
    "per = Rectangle(4,3)\n",
    "print(area.rectangle_area())\n",
    "print(per.perimeter())"
   ]
  },
  {
   "cell_type": "code",
   "execution_count": 78,
   "id": "e30e41ec",
   "metadata": {},
   "outputs": [
    {
     "name": "stdout",
     "output_type": "stream",
     "text": [
      "the perimeter of the circle C is: 6.283185307179586\n",
      "the area of circle C is: 3.141592653589793\n",
      "the point: ( 1 1 ) belongs to the circle C\n"
     ]
    }
   ],
   "source": [
    "#Q3\n",
    "from math import pi\n",
    "class Circle:\n",
    "    def __init__(self, a, b, r):\n",
    "        self.a = a\n",
    "        self.b = b\n",
    "        self.r = r\n",
    "\n",
    "    def perimeter (self):\n",
    "        return  2 * pi * self.r\n",
    "\n",
    "\n",
    "    def area (self):\n",
    "        return  pi * self.r**2\n",
    "    \n",
    "    \n",
    "    def equation (self, x, y):\n",
    "        return (x-self.a)**2 + (y-self.b)**2 - self.r**2\n",
    "    \n",
    "    def test (self, x, y):\n",
    "        if (self.equation (x, y) == 0):\n",
    "            print (\"the point: (\", x, y, \") belongs to the circle C\")\n",
    "        else:\n",
    "            print (\"the point: (\", x, y, \") does not belong to the circle C\")\n",
    "\n",
    "\n",
    "\n",
    "newcircle = Circle (1,2,1)\n",
    "\n",
    "print (\"the perimeter of the circle C is:\", C.perimeter() )\n",
    "print (\"the area of circle C is:\", C.area())\n",
    "\n",
    "newcircle.test(1,1) \n"
   ]
  },
  {
   "cell_type": "code",
   "execution_count": null,
   "id": "d2bbd2a7",
   "metadata": {},
   "outputs": [],
   "source": [
    "#Q4\n",
    "class Bank_Account:\n",
    "    def __init__(self):\n",
    "        self.balance=0\n",
    "       \n",
    " \n",
    "    def deposit(self):\n",
    "        amount=float(input(\"Enter amount to be Deposited: \"))\n",
    "        self.balance += amount\n",
    "        print(\"\\n Amount Deposited:\",amount)\n",
    " \n",
    "    def withdraw(self):\n",
    "        amount = float(input(\"Enter amount to be Withdrawn: \"))\n",
    "        if self.balance>=amount:\n",
    "            self.balance-=amount\n",
    "            print(\"\\n You Withdrew:\", amount)\n",
    "        else:\n",
    "            print(\"\\n Insufficient balance  \")\n",
    " \n",
    "    def display(self):\n",
    "        print(\"\\n Net Available Balance=\",self.balance)\n",
    " \n",
    "\n",
    "  \n",
    "\n",
    "a = Bank_Account()\n",
    "  \n",
    "\n",
    "a.deposit()\n",
    "a.withdraw()\n",
    "a.display()"
   ]
  },
  {
   "cell_type": "code",
   "execution_count": null,
   "id": "f27150f8",
   "metadata": {},
   "outputs": [],
   "source": []
  },
  {
   "cell_type": "code",
   "execution_count": null,
   "id": "be67f0c9",
   "metadata": {},
   "outputs": [],
   "source": []
  }
 ],
 "metadata": {
  "kernelspec": {
   "display_name": "Python 3 (ipykernel)",
   "language": "python",
   "name": "python3"
  },
  "language_info": {
   "codemirror_mode": {
    "name": "ipython",
    "version": 3
   },
   "file_extension": ".py",
   "mimetype": "text/x-python",
   "name": "python",
   "nbconvert_exporter": "python",
   "pygments_lexer": "ipython3",
   "version": "3.10.9"
  }
 },
 "nbformat": 4,
 "nbformat_minor": 5
}
