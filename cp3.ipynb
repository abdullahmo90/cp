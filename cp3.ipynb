{
 "cells": [
  {
   "cell_type": "code",
   "execution_count": 14,
   "id": "210b5f14",
   "metadata": {},
   "outputs": [
    {
     "name": "stdout",
     "output_type": "stream",
     "text": [
      "36\n"
     ]
    }
   ],
   "source": [
    "#Q1\n",
    "x=1\n",
    "numbers = [2,3,6]\n",
    "for i in numbers:\n",
    "    x=x*i\n",
    "print(x)\n",
    "    \n",
    "    "
   ]
  },
  {
   "cell_type": "code",
   "execution_count": 20,
   "id": "c453896a",
   "metadata": {},
   "outputs": [
    {
     "name": "stdout",
     "output_type": "stream",
     "text": [
      "[(2, 1), (1, 2), (2, 3), (4, 4), (2, 5)]\n"
     ]
    }
   ],
   "source": [
    "#Q2\n",
    "a =[(2, 5), (1, 2), (4, 4), (2, 3), (2, 1)]\n",
    "a.sort(key= lambda x : x[1] )\n",
    "print(a)"
   ]
  },
  {
   "cell_type": "code",
   "execution_count": 41,
   "id": "a8b00ac0",
   "metadata": {},
   "outputs": [
    {
     "name": "stdout",
     "output_type": "stream",
     "text": [
      "{'a': 400, 'b': 400, 'c': 300, 'd': 400}\n"
     ]
    }
   ],
   "source": [
    "#Q3\n",
    "d1 = {'a': 100, 'b': 200, 'c':300}\n",
    "d2 = {'a': 300, 'b': 200, 'd':400}\n",
    "d3 =d1\n",
    "\n",
    "for key,value in d2.items():\n",
    "    if key in d3:\n",
    "        d3[key]+=value\n",
    "    else:\n",
    "        d3[key] = value\n",
    "print(d3)\n",
    "    \n",
    "    "
   ]
  },
  {
   "cell_type": "code",
   "execution_count": 62,
   "id": "3269c892",
   "metadata": {},
   "outputs": [],
   "source": [
    "#cp funtions\n",
    "def calc_(x,y,z):\n",
    "    if z=='+':\n",
    "        return x+y\n",
    "    elif z=='-':\n",
    "        return x-y\n",
    "    elif z=='*':\n",
    "        return x*y\n",
    "    elif z=='/':\n",
    "        if y==0:\n",
    "            print(\"error\")\n",
    "            y=int(input())\n",
    "            return x/y\n",
    "        else:\n",
    "            return x/y\n",
    "    \n",
    "        \n",
    "    \n",
    "    "
   ]
  },
  {
   "cell_type": "code",
   "execution_count": 5,
   "id": "3c6c645f",
   "metadata": {},
   "outputs": [
    {
     "name": "stdout",
     "output_type": "stream",
     "text": [
      "enter number7\n",
      "{1: 1, 2: 4, 3: 9, 4: 16, 5: 25, 6: 36, 7: 49}\n"
     ]
    }
   ],
   "source": [
    "#Q4\n",
    "n=int(input(\"enter number\"))\n",
    "\n",
    "ndict = {}\n",
    "for i in range(1, n+1):\n",
    "    ndict[i] = i*i\n",
    "\n",
    "print(ndict)"
   ]
  },
  {
   "cell_type": "code",
   "execution_count": 15,
   "id": "5595a791",
   "metadata": {},
   "outputs": [
    {
     "name": "stdout",
     "output_type": "stream",
     "text": [
      "[('item3', '24.5'), ('item2', '15.10'), ('item1', '12.20')]\n"
     ]
    }
   ],
   "source": [
    "#Q5\n",
    "a= [('item1', '12.20'), ('item2', '15.10'), ('item3', '24.5')]\n",
    "a.sort( key=lambda x : float(x[1]), reverse=True)\n",
    "print(a)"
   ]
  },
  {
   "cell_type": "code",
   "execution_count": 23,
   "id": "0e200951",
   "metadata": {},
   "outputs": [
    {
     "ename": "SyntaxError",
     "evalue": "invalid syntax (4068855183.py, line 5)",
     "output_type": "error",
     "traceback": [
      "\u001b[1;36m  Cell \u001b[1;32mIn[23], line 5\u001b[1;36m\u001b[0m\n\u001b[1;33m    empty_set.add(1:n)\u001b[0m\n\u001b[1;37m                   ^\u001b[0m\n\u001b[1;31mSyntaxError\u001b[0m\u001b[1;31m:\u001b[0m invalid syntax\n"
     ]
    }
   ],
   "source": [
    "#Q6\n",
    "empty_set = set()\n",
    "n=int(input(\"enter number\"))\n",
    "for i in range (1,n):\n",
    "    empty_set.add(1)\n"
   ]
  },
  {
   "cell_type": "code",
   "execution_count": null,
   "id": "dad933e9",
   "metadata": {},
   "outputs": [],
   "source": []
  }
 ],
 "metadata": {
  "kernelspec": {
   "display_name": "Python 3 (ipykernel)",
   "language": "python",
   "name": "python3"
  },
  "language_info": {
   "codemirror_mode": {
    "name": "ipython",
    "version": 3
   },
   "file_extension": ".py",
   "mimetype": "text/x-python",
   "name": "python",
   "nbconvert_exporter": "python",
   "pygments_lexer": "ipython3",
   "version": "3.10.9"
  }
 },
 "nbformat": 4,
 "nbformat_minor": 5
}
